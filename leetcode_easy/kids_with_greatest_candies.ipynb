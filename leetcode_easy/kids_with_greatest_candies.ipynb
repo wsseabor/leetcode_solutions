{
 "cells": [
  {
   "cell_type": "code",
   "execution_count": null,
   "id": "456e1675-638d-4f41-980d-27822a9f52a8",
   "metadata": {},
   "outputs": [],
   "source": [
    "\"\"\"\n",
    "There are n kids with candies. You are given an integer array candies, where each candies[i] represents the number of \n",
    "candies the ith kid has, and an integer extraCandies, denoting the number of extra candies that you have.\n",
    "\n",
    "Return a boolean array result of length n, where result[i] is true if, after giving the ith kid all the extraCandies, \n",
    "they will have the greatest number of candies among all the kids, or false otherwise.\n",
    "\n",
    "Note that multiple kids can have the greatest number of candies.\n",
    "\"\"\"\n",
    "\n",
    "\"\"\"\n",
    "Fairly straightforward. Find the largest number in the list, loop through the list\n",
    "and compare that to index + extraCandies, append a result list.\n",
    "\n",
    "\"\"\"\n",
    "class Solution:\n",
    "    def kidsWithCandies(self, candies: List[int], extraCandies: int) -> List[bool]:\n",
    "        greatest = max(candies)\n",
    "        res = []\n",
    "        \n",
    "        for i in range(len(candies)):\n",
    "            candies[i] += extraCandies\n",
    "\n",
    "            if (candies[i] >= greatest):\n",
    "                res.append(True)\n",
    "            else:\n",
    "                res.append(False)\n",
    "\n",
    "        return res\n"
   ]
  }
 ],
 "metadata": {
  "kernelspec": {
   "display_name": "Python 3 (ipykernel)",
   "language": "python",
   "name": "python3"
  },
  "language_info": {
   "codemirror_mode": {
    "name": "ipython",
    "version": 3
   },
   "file_extension": ".py",
   "mimetype": "text/x-python",
   "name": "python",
   "nbconvert_exporter": "python",
   "pygments_lexer": "ipython3",
   "version": "3.10.2"
  }
 },
 "nbformat": 4,
 "nbformat_minor": 5
}
