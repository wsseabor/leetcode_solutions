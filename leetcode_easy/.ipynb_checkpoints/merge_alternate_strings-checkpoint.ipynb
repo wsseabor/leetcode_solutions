{
 "cells": [
  {
   "cell_type": "code",
   "execution_count": 1,
   "id": "02dcd89a-af7b-412c-a196-389716e25ae1",
   "metadata": {},
   "outputs": [],
   "source": [
    "\"\"\"\n",
    "\n",
    "Problem:\n",
    "\n",
    "Given two strings, word1 and word2, merge the strings by adding their letters in alternating order,\\\n",
    "starting with word1. If a string is longer than the other, append the additional letters onto the\n",
    "merged string.\n",
    "\n",
    "Approach:\n",
    "\n",
    "Start with two pointers, i and j, that each begin at index zero of their respective strings. \n",
    "Loop over both, condition being while index i is less than length of word 1 or index j less than length of word 2\n",
    "Append the resulting index to a result empty string\n",
    "Return \n",
    "\n",
    "\n",
    "\"\"\"\n",
    "\n",
    "class solution:\n",
    "    def mergeAlternately(self, word1: str, word2: str) -> str:\n",
    "        i = 0\n",
    "        j = 0\n",
    "        res = \"\"\n",
    "\n",
    "        while i < len(word1) or j < len(word2):\n",
    "            if i < len(word1):\n",
    "                res += word1[i]\n",
    "                i += 1\n",
    "\n",
    "            if j < len(word2):\n",
    "                res += word2[j]\n",
    "                j += 1\n",
    "\n",
    "        return res\n"
   ]
  },
  {
   "cell_type": "code",
   "execution_count": 3,
   "id": "567e625f-ce55-4e03-8a83-a7556c8db929",
   "metadata": {},
   "outputs": [
    {
     "data": {
      "text/plain": [
       "'aabbsq'"
      ]
     },
     "execution_count": 3,
     "metadata": {},
     "output_type": "execute_result"
    }
   ],
   "source": [
    "solution = solution()\n",
    "solution.mergeAlternately('abs', 'abq')"
   ]
  },
  {
   "cell_type": "code",
   "execution_count": null,
   "id": "667f76f7-1700-4d4d-af5b-9aa4dd3fe596",
   "metadata": {},
   "outputs": [],
   "source": []
  }
 ],
 "metadata": {
  "kernelspec": {
   "display_name": "Python 3 (ipykernel)",
   "language": "python",
   "name": "python3"
  },
  "language_info": {
   "codemirror_mode": {
    "name": "ipython",
    "version": 3
   },
   "file_extension": ".py",
   "mimetype": "text/x-python",
   "name": "python",
   "nbconvert_exporter": "python",
   "pygments_lexer": "ipython3",
   "version": "3.10.2"
  }
 },
 "nbformat": 4,
 "nbformat_minor": 5
}
